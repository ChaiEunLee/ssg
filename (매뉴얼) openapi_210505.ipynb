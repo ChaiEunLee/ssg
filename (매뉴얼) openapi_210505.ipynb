{
 "cells": [
  {
   "cell_type": "code",
   "execution_count": 1,
   "metadata": {},
   "outputs": [],
   "source": [
    "import requests\n",
    "from bs4 import BeautifulSoup as bs\n",
    "from urllib import parse\n",
    "import pandas as pd\n",
    "\n",
    "serviceKey = '#serviceKey#' \n",
    "params = {'ServiceKey':parse.unquote(serviceKey), # 서비스키(필수)\n",
    "          'startCreateDt':20210101, # 데이터 생성일 시작범위(선택)\n",
    "          'endCreateDt':20210430 } # 데이터 생성일 종료범위(선택)\n",
    "# 서비스URL\n",
    "url = 'http://openapi.data.go.kr/openapi/service/rest/Covid19/getCovid19SidoInfStateJson?'\n",
    "\n",
    "res = requests.get(url, params=params)\n",
    "soup = bs(res.text, 'lxml')\n",
    "\n",
    "# 결과 출력\n",
    "#print(soup)"
   ]
  },
  {
   "cell_type": "code",
   "execution_count": 2,
   "metadata": {},
   "outputs": [
    {
     "data": {
      "text/plain": [
       "<item><createdt>2021-04-30 13:48:55.545</createdt><deathcnt>4</deathcnt><defcnt>3468</defcnt><gubun>검역</gubun><gubuncn>隔離區</gubuncn><gubunen>Lazaretto</gubunen><incdec>5</incdec><isolclearcnt>3271</isolclearcnt><isolingcnt>193</isolingcnt><localocccnt>0</localocccnt><overflowcnt>5</overflowcnt><qurrate>-</qurrate><seq>9222</seq><stdday>2021년 04월 30일 00시</stdday><updatedt>null</updatedt></item>"
      ]
     },
     "execution_count": 2,
     "metadata": {},
     "output_type": "execute_result"
    }
   ],
   "source": [
    "soup.find_all('item')[0]"
   ]
  },
  {
   "cell_type": "code",
   "execution_count": 3,
   "metadata": {},
   "outputs": [],
   "source": [
    "items = soup.find_all('item')"
   ]
  },
  {
   "cell_type": "markdown",
   "metadata": {},
   "source": [
    "기준일시\tSTD_DAY  \n",
    "확진자 수\tDEF_CNT  \n",
    "시도명(한글)\tGUBUN  \n",
    "해외유입 수\tOVER_FLOW_CNT  \n",
    "지역발생 수\tLOCAL_OCC_CNT"
   ]
  },
  {
   "cell_type": "code",
   "execution_count": 4,
   "metadata": {},
   "outputs": [],
   "source": [
    "#출처: https://rfriend.tistory.com/477 [R, Python 분석과 프로그래밍의 친구 (by R Friend)]\n",
    "rows = []\n",
    "# iterate through each node of the tree\n",
    "for item in items:\n",
    "    n_defcnt = item.find(\"defcnt\").text\n",
    "    n_stdday = item.find(\"stdday\").text\n",
    "    n_localocccnt = item.find(\"localocccnt\").text\n",
    "    n_overflowcnt = item.find(\"overflowcnt\").text\n",
    "    n_gubun = item.find(\"gubun\").text\n",
    "    \n",
    "    rows.append({\"defcnt\": n_defcnt, \n",
    "                 \"stdday\": n_stdday, \n",
    "                 \"localocccnt\": n_localocccnt, \n",
    "                 \"overflowcnt\": n_overflowcnt,\n",
    "                \"gubun\":n_gubun})"
   ]
  },
  {
   "cell_type": "code",
   "execution_count": 5,
   "metadata": {},
   "outputs": [],
   "source": [
    "columns = [\"stdday\", \"gubun\",\"localocccnt\", \"overflowcnt\",\"defcnt\"]\n",
    "\n",
    "covid_df = pd.DataFrame(rows, columns = columns)"
   ]
  },
  {
   "cell_type": "code",
   "execution_count": null,
   "metadata": {},
   "outputs": [],
   "source": []
  }
 ],
 "metadata": {
  "kernelspec": {
   "display_name": "Python 3",
   "language": "python",
   "name": "python3"
  },
  "language_info": {
   "codemirror_mode": {
    "name": "ipython",
    "version": 3
   },
   "file_extension": ".py",
   "mimetype": "text/x-python",
   "name": "python",
   "nbconvert_exporter": "python",
   "pygments_lexer": "ipython3",
   "version": "3.7.6"
  }
 },
 "nbformat": 4,
 "nbformat_minor": 2
}
