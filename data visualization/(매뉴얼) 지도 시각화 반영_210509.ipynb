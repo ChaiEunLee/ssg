{
 "cells": [
  {
   "cell_type": "markdown",
   "metadata": {},
   "source": [
    "### data 생성"
   ]
  },
  {
   "cell_type": "code",
   "execution_count": 7,
   "metadata": {},
   "outputs": [],
   "source": [
    "import numpy as np\n",
    "import pandas as pd \n",
    "import matplotlib.pyplot as plt\n",
    "import seaborn as sns\n",
    "from datetime import datetime\n",
    "import sys\n",
    "path = '/Desktop/python/BI_python' #helper_module넣은 path경로 넣기\n",
    "sys.path.append(path)\n",
    "from helper_module import call_data"
   ]
  },
  {
   "cell_type": "code",
   "execution_count": 8,
   "metadata": {},
   "outputs": [],
   "source": [
    "ca = call_data()"
   ]
  },
  {
   "cell_type": "code",
   "execution_count": 26,
   "metadata": {},
   "outputs": [],
   "source": [
    "query = '''\n",
    "#회사 내부db 쿼리#\n",
    "'''"
   ]
  },
  {
   "cell_type": "code",
   "execution_count": 27,
   "metadata": {},
   "outputs": [
    {
     "name": "stdout",
     "output_type": "stream",
     "text": [
      "cnxn closed !\n"
     ]
    }
   ],
   "source": [
    "t = ca.from_table(query)"
   ]
  },
  {
   "cell_type": "code",
   "execution_count": 19,
   "metadata": {},
   "outputs": [],
   "source": [
    "df_2021 = pd.DataFrame(t)\n",
    "#df_2021.head()"
   ]
  },
  {
   "cell_type": "code",
   "execution_count": 29,
   "metadata": {},
   "outputs": [],
   "source": [
    "query = '''\n",
    "#회사 내부db 쿼리#\n",
    "'''"
   ]
  },
  {
   "cell_type": "code",
   "execution_count": 30,
   "metadata": {},
   "outputs": [
    {
     "name": "stdout",
     "output_type": "stream",
     "text": [
      "cnxn closed !\n"
     ]
    }
   ],
   "source": [
    "t = ca.from_table(query)"
   ]
  },
  {
   "cell_type": "code",
   "execution_count": 20,
   "metadata": {
    "scrolled": true
   },
   "outputs": [],
   "source": [
    "df_2020 = pd.DataFrame(t)\n",
    "#df_2020.head()"
   ]
  },
  {
   "cell_type": "code",
   "execution_count": 32,
   "metadata": {},
   "outputs": [],
   "source": [
    "#pd.read_pickle(\"df_2020.pkl\")"
   ]
  },
  {
   "cell_type": "code",
   "execution_count": 33,
   "metadata": {},
   "outputs": [],
   "source": [
    "#neo2.to_pickle(\"neo2.pkl\")\n",
    "df_2020.to_pickle(\"df_2020_neo.pkl\")\n",
    "df_2021.to_pickle(\"df_2021_neo.pkl\")"
   ]
  },
  {
   "cell_type": "markdown",
   "metadata": {},
   "source": [
    "참고) data 불러오기"
   ]
  },
  {
   "cell_type": "code",
   "execution_count": 9,
   "metadata": {},
   "outputs": [],
   "source": [
    "#data pickle로 불러오기#\n",
    "import pickle \n",
    "\n",
    "with open('df_2020_neo.pkl','rb') as f:\n",
    "    df_2020=pickle.load(f)\n",
    "\n",
    "with open('df_2021_neo.pkl','rb') as f:\n",
    "    df_2021=pickle.load(f) "
   ]
  },
  {
   "cell_type": "code",
   "execution_count": 10,
   "metadata": {},
   "outputs": [],
   "source": [
    "#df_2020.head()"
   ]
  },
  {
   "cell_type": "code",
   "execution_count": 11,
   "metadata": {
    "scrolled": false
   },
   "outputs": [],
   "source": [
    "#df_2020.head()"
   ]
  },
  {
   "cell_type": "markdown",
   "metadata": {},
   "source": [
    "### 지도시각화"
   ]
  },
  {
   "cell_type": "code",
   "execution_count": 12,
   "metadata": {},
   "outputs": [],
   "source": [
    "#df_2021:120262 rows \n",
    "neo4 = pd.merge(df_2021.groupby(['neo','시군구명'])['##index##'].sum().reset_index(),df_2020.groupby(['neo','시군구명'])['##index##'].sum().reset_index(),\n",
    "            how='left', # left, rigth, inner (default), outer\n",
    "             on=['neo','시군구명'], # merge의 기준이 되는 Key 변수\n",
    "          #   left_index=True, # 만약 True 라면, 왼쪽 DataFrame의 index를 merge Key로 사용\n",
    "            right_index=False, # 만약 True 라면, 오른쪽 DataFrame의 index를 merge Key로 사용\n",
    "             sort=True, # merge 된 후의 DataFrame을 join Key 기준으로 정렬\n",
    "             suffixes=('2021', '2020'), # 중복되는 변수 이름에 대해 접두사 부여 (defaults to '_x', '_y'\n",
    "             copy=True, # merge할 DataFrame을 복사\n",
    "             indicator=False)"
   ]
  },
  {
   "cell_type": "code",
   "execution_count": 13,
   "metadata": {},
   "outputs": [],
   "source": [
    "neo4 = neo4[neo4['neo']!='ELSE']"
   ]
  },
  {
   "cell_type": "code",
   "execution_count": 14,
   "metadata": {},
   "outputs": [],
   "source": [
    "#2021년에는 NaN이 없음 그래서 2020년도에 NaN인거는 제외->삭제처리\n",
    "#2) 삭제처리\n",
    "neo4 = neo4.dropna(axis=0)\n",
    "neo4 = neo4[neo4['vat_excl_rlord_amt2020'] >0 ]\n",
    "#neo4[neo4['vat_excl_rlord_amt2020'].isnull()] \n",
    "#neo4[neo4['vat_excl_rlord_amt2020'] ==0 ]"
   ]
  },
  {
   "cell_type": "code",
   "execution_count": 15,
   "metadata": {},
   "outputs": [],
   "source": [
    "neo4['prop'] = ##function for special index##\n",
    "neo4 = neo4[neo4['prop']<10]"
   ]
  },
  {
   "cell_type": "code",
   "execution_count": 16,
   "metadata": {
    "scrolled": true
   },
   "outputs": [
    {
     "name": "stdout",
     "output_type": "stream",
     "text": [
      "0.12.1\n"
     ]
    }
   ],
   "source": [
    "import requests\n",
    "import json\n",
    "import pandas as pd\n",
    "import numpy as np\n",
    "from pandas.io.json import json_normalize\n",
    "import os\n",
    "import webbrowser\n",
    "import folium\n",
    "from folium import plugins\n",
    "print(folium.__version__)"
   ]
  },
  {
   "cell_type": "code",
   "execution_count": 17,
   "metadata": {},
   "outputs": [],
   "source": [
    "#색깔 통일\n",
    "myscale = (neo4['prop'].quantile((0,0.45,0.763, 0.815, 0.85, 0.875,0.95,1))).tolist()\n",
    "#(neo4['prop'].quantile((0,0.45,0.763, 0.815, 0.85, 0.875,0.95))).tolist()\n",
    "myscale = (neo4['prop'].quantile((0,0.6,0.8,0.85,0.9,1))).tolist()"
   ]
  },
  {
   "cell_type": "code",
   "execution_count": 18,
   "metadata": {},
   "outputs": [],
   "source": [
    "#전체\n",
    "# json파일 로딩\n",
    "import json\n",
    "geo_path = 'C:/Users/Desktop/python/BI_python/05. skorea_municipalities_geo_simple.json'\n",
    "geo_str = json.load(open(geo_path, encoding='utf-8'))\n",
    "\n",
    "m = folium.Map(location=[37.5502, 126.982], zoom_start=9)\n",
    "\n",
    "folium.Choropleth(\n",
    "    geo_data=geo_str,\n",
    "    name=\"choropleth\",\n",
    "    data=neo4[neo4['neo']=='##filter for special index##'],\n",
    "    columns=[\"시군구명\", \"prop\"],\n",
    "    key_on=\"feature.properties.name\",\n",
    "    threshold_scale = myscale,\n",
    "    fill_color=\"Set1\", \n",
    "    fill_opacity=0.7,\n",
    "    line_opacity=.5,\n",
    "    legend_name=\"##special index##\",\n",
    ").add_to(m)\n",
    "\n",
    "folium.LayerControl().add_to(m)\n",
    "\n",
    "m\n",
    "#m.save('neo3.html')"
   ]
  },
  {
   "cell_type": "code",
   "execution_count": null,
   "metadata": {},
   "outputs": [],
   "source": []
  }
 ],
 "metadata": {
  "kernelspec": {
   "display_name": "Python 3",
   "language": "python",
   "name": "python3"
  },
  "language_info": {
   "codemirror_mode": {
    "name": "ipython",
    "version": 3
   },
   "file_extension": ".py",
   "mimetype": "text/x-python",
   "name": "python",
   "nbconvert_exporter": "python",
   "pygments_lexer": "ipython3",
   "version": "3.7.3"
  }
 },
 "nbformat": 4,
 "nbformat_minor": 4
}
