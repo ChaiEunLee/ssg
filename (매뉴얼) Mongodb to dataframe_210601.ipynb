{
 "cells": [
  {
   "cell_type": "code",
   "execution_count": 136,
   "metadata": {},
   "outputs": [],
   "source": [
    "import pymongo\n",
    "conn = pymongo.MongoClient('mongodb://#데이터경로#')\n",
    "db = conn['#TraceName#']\n",
    "coll = db['#CollectionName#']"
   ]
  },
  {
   "cell_type": "code",
   "execution_count": 143,
   "metadata": {},
   "outputs": [],
   "source": [
    "#myquery = {\"startQuery\":{\"$eq\":\"계란\"}}\n",
    "myquery = {}\n",
    "mydoc = coll.find(myquery)"
   ]
  },
  {
   "cell_type": "code",
   "execution_count": 138,
   "metadata": {},
   "outputs": [],
   "source": [
    "import pandas as pd\n",
    "df =  pd.DataFrame(list(mydoc))\n",
    "#df"
   ]
  },
  {
   "cell_type": "code",
   "execution_count": 43,
   "metadata": {},
   "outputs": [],
   "source": [
    "#df.to_pickle(\"relationWordAgg_210601.pkl\")\n",
    "#pd.read_pickle('relationWordAgg_210601.pkl')"
   ]
  }
 ],
 "metadata": {
  "kernelspec": {
   "display_name": "Python 3",
   "language": "python",
   "name": "python3"
  },
  "language_info": {
   "codemirror_mode": {
    "name": "ipython",
    "version": 3
   },
   "file_extension": ".py",
   "mimetype": "text/x-python",
   "name": "python",
   "nbconvert_exporter": "python",
   "pygments_lexer": "ipython3",
   "version": "3.7.6"
  }
 },
 "nbformat": 4,
 "nbformat_minor": 4
}
